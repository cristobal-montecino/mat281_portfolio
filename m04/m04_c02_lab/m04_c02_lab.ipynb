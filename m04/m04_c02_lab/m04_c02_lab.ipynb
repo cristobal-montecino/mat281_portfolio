{
 "cells": [
  {
   "cell_type": "markdown",
   "metadata": {
    "Collapsed": "false",
    "slideshow": {
     "slide_type": "slide"
    }
   },
   "source": [
    "<img src=\"https://upload.wikimedia.org/wikipedia/commons/4/47/Logo_UTFSM.png\" width=\"200\" alt=\"utfsm-logo\" align=\"left\"/>\n",
    "\n",
    "# MAT281\n",
    "### Aplicaciones de la Matemática en la Ingeniería"
   ]
  },
  {
   "cell_type": "markdown",
   "metadata": {
    "Collapsed": "false",
    "slideshow": {
     "slide_type": "slide"
    }
   },
   "source": [
    "## Módulo 04\n",
    "## Laboratorio Clase 02: Regresión Lineal"
   ]
  },
  {
   "cell_type": "markdown",
   "metadata": {
    "Collapsed": "false"
   },
   "source": [
    "### Instrucciones\n",
    "\n",
    "\n",
    "* Completa tus datos personales (nombre y rol USM) en siguiente celda.\n",
    "* La escala es de 0 a 4 considerando solo valores enteros.\n",
    "* Debes _pushear_ tus cambios a tu repositorio personal del curso.\n",
    "* Como respaldo, debes enviar un archivo .zip con el siguiente formato `mXX_cYY_lab_apellido_nombre.zip` a alonso.ogueda@gmail.com, debe contener todo lo necesario para que se ejecute correctamente cada celda, ya sea datos, imágenes, scripts, etc.\n",
    "* Se evaluará:\n",
    "    - Soluciones\n",
    "    - Código\n",
    "    - Que Binder esté bien configurado.\n",
    "    - Al presionar  `Kernel -> Restart Kernel and Run All Cells` deben ejecutarse todas las celdas sin error."
   ]
  },
  {
   "cell_type": "markdown",
   "metadata": {
    "Collapsed": "false"
   },
   "source": [
    "__Nombre__: Cristóbal Montecino\n",
    "\n",
    "__Rol__: 201710019-2"
   ]
  },
  {
   "cell_type": "code",
   "execution_count": 1,
   "metadata": {
    "Collapsed": "false"
   },
   "outputs": [],
   "source": [
    "import numpy as np\n",
    "import pandas as pd\n",
    "import matplotlib.pyplot as plt\n",
    "import altair as alt\n",
    "\n",
    "from sklearn import datasets, linear_model\n",
    "from sklearn.metrics import mean_squared_error, r2_score\n",
    "\n",
    "alt.themes.enable('opaque')\n",
    "%matplotlib inline"
   ]
  },
  {
   "cell_type": "markdown",
   "metadata": {
    "Collapsed": "false"
   },
   "source": [
    "## Ejercicio 1: Diabetes"
   ]
  },
  {
   "cell_type": "markdown",
   "metadata": {
    "Collapsed": "false"
   },
   "source": [
    "Realizar análisis de regresión a los datos de diabetes disponibles en scikit-learn"
   ]
  },
  {
   "cell_type": "code",
   "execution_count": 2,
   "metadata": {
    "Collapsed": "false"
   },
   "outputs": [
    {
     "name": "stdout",
     "output_type": "stream",
     "text": [
      "['DESCR', 'data', 'data_filename', 'feature_names', 'target', 'target_filename']\n"
     ]
    }
   ],
   "source": [
    "diabetes = datasets.load_diabetes()\n",
    "print(dir(diabetes))  ## Atributos"
   ]
  },
  {
   "cell_type": "code",
   "execution_count": 3,
   "metadata": {
    "Collapsed": "false"
   },
   "outputs": [
    {
     "name": "stdout",
     "output_type": "stream",
     "text": [
      ".. _diabetes_dataset:\n",
      "\n",
      "Diabetes dataset\n",
      "----------------\n",
      "\n",
      "Ten baseline variables, age, sex, body mass index, average blood\n",
      "pressure, and six blood serum measurements were obtained for each of n =\n",
      "442 diabetes patients, as well as the response of interest, a\n",
      "quantitative measure of disease progression one year after baseline.\n",
      "\n",
      "**Data Set Characteristics:**\n",
      "\n",
      "  :Number of Instances: 442\n",
      "\n",
      "  :Number of Attributes: First 10 columns are numeric predictive values\n",
      "\n",
      "  :Target: Column 11 is a quantitative measure of disease progression one year after baseline\n",
      "\n",
      "  :Attribute Information:\n",
      "      - Age\n",
      "      - Sex\n",
      "      - Body mass index\n",
      "      - Average blood pressure\n",
      "      - S1\n",
      "      - S2\n",
      "      - S3\n",
      "      - S4\n",
      "      - S5\n",
      "      - S6\n",
      "\n",
      "Note: Each of these 10 feature variables have been mean centered and scaled by the standard deviation times `n_samples` (i.e. the sum of squares of each column totals 1).\n",
      "\n",
      "Source URL:\n",
      "https://www4.stat.ncsu.edu/~boos/var.select/diabetes.html\n",
      "\n",
      "For more information see:\n",
      "Bradley Efron, Trevor Hastie, Iain Johnstone and Robert Tibshirani (2004) \"Least Angle Regression,\" Annals of Statistics (with discussion), 407-499.\n",
      "(https://web.stanford.edu/~hastie/Papers/LARS/LeastAngle_2002.pdf)\n"
     ]
    }
   ],
   "source": [
    "print(diabetes.DESCR)"
   ]
  },
  {
   "cell_type": "code",
   "execution_count": 4,
   "metadata": {
    "Collapsed": "false"
   },
   "outputs": [
    {
     "data": {
      "text/html": [
       "<div>\n",
       "<style scoped>\n",
       "    .dataframe tbody tr th:only-of-type {\n",
       "        vertical-align: middle;\n",
       "    }\n",
       "\n",
       "    .dataframe tbody tr th {\n",
       "        vertical-align: top;\n",
       "    }\n",
       "\n",
       "    .dataframe thead th {\n",
       "        text-align: right;\n",
       "    }\n",
       "</style>\n",
       "<table border=\"1\" class=\"dataframe\">\n",
       "  <thead>\n",
       "    <tr style=\"text-align: right;\">\n",
       "      <th></th>\n",
       "      <th>age</th>\n",
       "      <th>sex</th>\n",
       "      <th>bmi</th>\n",
       "      <th>bp</th>\n",
       "      <th>s1</th>\n",
       "      <th>s2</th>\n",
       "      <th>s3</th>\n",
       "      <th>s4</th>\n",
       "      <th>s5</th>\n",
       "      <th>s6</th>\n",
       "      <th>prog</th>\n",
       "    </tr>\n",
       "  </thead>\n",
       "  <tbody>\n",
       "    <tr>\n",
       "      <td>0</td>\n",
       "      <td>0.038076</td>\n",
       "      <td>0.050680</td>\n",
       "      <td>0.061696</td>\n",
       "      <td>0.021872</td>\n",
       "      <td>-0.044223</td>\n",
       "      <td>-0.034821</td>\n",
       "      <td>-0.043401</td>\n",
       "      <td>-0.002592</td>\n",
       "      <td>0.019908</td>\n",
       "      <td>-0.017646</td>\n",
       "      <td>151.0</td>\n",
       "    </tr>\n",
       "    <tr>\n",
       "      <td>1</td>\n",
       "      <td>-0.001882</td>\n",
       "      <td>-0.044642</td>\n",
       "      <td>-0.051474</td>\n",
       "      <td>-0.026328</td>\n",
       "      <td>-0.008449</td>\n",
       "      <td>-0.019163</td>\n",
       "      <td>0.074412</td>\n",
       "      <td>-0.039493</td>\n",
       "      <td>-0.068330</td>\n",
       "      <td>-0.092204</td>\n",
       "      <td>75.0</td>\n",
       "    </tr>\n",
       "    <tr>\n",
       "      <td>2</td>\n",
       "      <td>0.085299</td>\n",
       "      <td>0.050680</td>\n",
       "      <td>0.044451</td>\n",
       "      <td>-0.005671</td>\n",
       "      <td>-0.045599</td>\n",
       "      <td>-0.034194</td>\n",
       "      <td>-0.032356</td>\n",
       "      <td>-0.002592</td>\n",
       "      <td>0.002864</td>\n",
       "      <td>-0.025930</td>\n",
       "      <td>141.0</td>\n",
       "    </tr>\n",
       "    <tr>\n",
       "      <td>3</td>\n",
       "      <td>-0.089063</td>\n",
       "      <td>-0.044642</td>\n",
       "      <td>-0.011595</td>\n",
       "      <td>-0.036656</td>\n",
       "      <td>0.012191</td>\n",
       "      <td>0.024991</td>\n",
       "      <td>-0.036038</td>\n",
       "      <td>0.034309</td>\n",
       "      <td>0.022692</td>\n",
       "      <td>-0.009362</td>\n",
       "      <td>206.0</td>\n",
       "    </tr>\n",
       "    <tr>\n",
       "      <td>4</td>\n",
       "      <td>0.005383</td>\n",
       "      <td>-0.044642</td>\n",
       "      <td>-0.036385</td>\n",
       "      <td>0.021872</td>\n",
       "      <td>0.003935</td>\n",
       "      <td>0.015596</td>\n",
       "      <td>0.008142</td>\n",
       "      <td>-0.002592</td>\n",
       "      <td>-0.031991</td>\n",
       "      <td>-0.046641</td>\n",
       "      <td>135.0</td>\n",
       "    </tr>\n",
       "  </tbody>\n",
       "</table>\n",
       "</div>"
      ],
      "text/plain": [
       "        age       sex       bmi        bp        s1        s2        s3  \\\n",
       "0  0.038076  0.050680  0.061696  0.021872 -0.044223 -0.034821 -0.043401   \n",
       "1 -0.001882 -0.044642 -0.051474 -0.026328 -0.008449 -0.019163  0.074412   \n",
       "2  0.085299  0.050680  0.044451 -0.005671 -0.045599 -0.034194 -0.032356   \n",
       "3 -0.089063 -0.044642 -0.011595 -0.036656  0.012191  0.024991 -0.036038   \n",
       "4  0.005383 -0.044642 -0.036385  0.021872  0.003935  0.015596  0.008142   \n",
       "\n",
       "         s4        s5        s6   prog  \n",
       "0 -0.002592  0.019908 -0.017646  151.0  \n",
       "1 -0.039493 -0.068330 -0.092204   75.0  \n",
       "2 -0.002592  0.002864 -0.025930  141.0  \n",
       "3  0.034309  0.022692 -0.009362  206.0  \n",
       "4 -0.002592 -0.031991 -0.046641  135.0  "
      ]
     },
     "execution_count": 4,
     "metadata": {},
     "output_type": "execute_result"
    }
   ],
   "source": [
    "diabetes_df = (\n",
    "    pd.DataFrame(\n",
    "        diabetes.data,\n",
    "        columns=diabetes.feature_names\n",
    "    )\n",
    "    .assign(prog=diabetes.target)\n",
    ")\n",
    "\n",
    "diabetes_df.head()"
   ]
  },
  {
   "cell_type": "markdown",
   "metadata": {
    "Collapsed": "false"
   },
   "source": [
    "#### Pregunta 1 (1 pto):\n",
    "\n",
    "* ¿Por qué la columna de sexo tiene esos valores?\n",
    "* ¿Cuál es la columna a predecir?"
   ]
  },
  {
   "cell_type": "markdown",
   "metadata": {},
   "source": [
    "**Resp:**"
   ]
  },
  {
   "cell_type": "markdown",
   "metadata": {
    "Collapsed": "false"
   },
   "source": [
    "* La columna de sexo tiene esos valores porque esta centrada en la media y escalanda por la desviación estandar multiplicada por la cantidad de datos."
   ]
  },
  {
   "cell_type": "markdown",
   "metadata": {
    "Collapsed": "false"
   },
   "source": [
    "* La columna a predecir es prog, ya que lo dice la descripción."
   ]
  },
  {
   "cell_type": "markdown",
   "metadata": {
    "Collapsed": "false"
   },
   "source": [
    "#### Pregunta 2 (1 pto)\n",
    "\n",
    "Realiza una regresión lineal con todas las _features_ incluyendo intercepto."
   ]
  },
  {
   "cell_type": "code",
   "execution_count": 269,
   "metadata": {
    "Collapsed": "false"
   },
   "outputs": [],
   "source": [
    "X = diabetes_df.drop(['prog'],axis=1).values\n",
    "y = diabetes_df['prog'].values"
   ]
  },
  {
   "cell_type": "markdown",
   "metadata": {
    "Collapsed": "false"
   },
   "source": [
    "Ajusta el modelo"
   ]
  },
  {
   "cell_type": "code",
   "execution_count": 271,
   "metadata": {
    "Collapsed": "false"
   },
   "outputs": [],
   "source": [
    "regr = linear_model.LinearRegression()\n",
    "regr.fit(X, y);"
   ]
  },
  {
   "cell_type": "markdown",
   "metadata": {
    "Collapsed": "false"
   },
   "source": [
    "Imprime el intercepto y los coeficientes luego de ajustar el modelo."
   ]
  },
  {
   "cell_type": "code",
   "execution_count": 274,
   "metadata": {
    "Collapsed": "false"
   },
   "outputs": [
    {
     "name": "stdout",
     "output_type": "stream",
     "text": [
      "Intercept: \n",
      "152.1334841628965\n",
      "\n",
      "Coefficients: \n",
      "[ -10.01219782 -239.81908937  519.83978679  324.39042769 -792.18416163\n",
      "  476.74583782  101.04457032  177.06417623  751.27932109   67.62538639]\n",
      "\n"
     ]
    }
   ],
   "source": [
    "print(f\"Intercept: \\n{regr.intercept_}\\n\")\n",
    "print(f\"Coefficients: \\n{regr.coef_}\\n\")"
   ]
  },
  {
   "cell_type": "markdown",
   "metadata": {
    "Collapsed": "false"
   },
   "source": [
    "Haz una predicción del modelo con los datos `X`."
   ]
  },
  {
   "cell_type": "code",
   "execution_count": 58,
   "metadata": {
    "Collapsed": "false"
   },
   "outputs": [],
   "source": [
    "y_pred = regr.predict(X)"
   ]
  },
  {
   "cell_type": "markdown",
   "metadata": {
    "Collapsed": "false"
   },
   "source": [
    "Calcula e imprime el error cuadrático medio y el coeficiente de determinación de este modelo ajustado."
   ]
  },
  {
   "cell_type": "code",
   "execution_count": 276,
   "metadata": {
    "Collapsed": "false"
   },
   "outputs": [
    {
     "name": "stdout",
     "output_type": "stream",
     "text": [
      "Mean squared error: 2859.69\n",
      "\n",
      "Coefficient of determination: 0.52\n"
     ]
    }
   ],
   "source": [
    "# Error cuadrático medio\n",
    "print(f\"Mean squared error: {mean_squared_error(y, y_pred):.2f}\\n\")\n",
    "\n",
    "# Coeficiente de determinación\n",
    "print(f\"Coefficient of determination: {r2_score(y, y_pred):.2f}\")"
   ]
  },
  {
   "cell_type": "markdown",
   "metadata": {
    "Collapsed": "false"
   },
   "source": [
    "**Pregunta: ¿Qué tan bueno fue el ajuste del modelo?**"
   ]
  },
  {
   "cell_type": "markdown",
   "metadata": {
    "Collapsed": "false"
   },
   "source": [
    "Fue un mal ajuste, pues el coeficiente de determinación es de 0.52 y yo considero un buen ajuste cuando el coeficiente es $\\ge$ 0.95"
   ]
  },
  {
   "cell_type": "markdown",
   "metadata": {
    "Collapsed": "false"
   },
   "source": [
    "### Pregunta 3 (2 ptos).\n",
    "\n",
    "Realizar multiples regresiones lineales utilizando una sola _feature_ a la vez. \n",
    "\n",
    "En cada iteración:\n",
    "\n",
    "- Crea un arreglo `X`con solo una feature filtrando `X`.\n",
    "- Crea un modelo de regresión lineal con intercepto.\n",
    "- Ajusta el modelo anterior.\n",
    "- Genera una predicción con el modelo.\n",
    "- Calcula e imprime las métricas de la pregunta anterior."
   ]
  },
  {
   "cell_type": "code",
   "execution_count": 264,
   "metadata": {
    "Collapsed": "false"
   },
   "outputs": [
    {
     "name": "stdout",
     "output_type": "stream",
     "text": [
      "age:\n",
      "\tCoefficients: [304.18307453]\n",
      "\tIntercept: 152.13348416289605\n",
      "\tMean squared error: 5720.55\n",
      "\tCoefficient of determination: 0.04\n",
      "\n",
      "sex:\n",
      "\tCoefficients: [69.71535568]\n",
      "\tIntercept: 152.13348416289594\n",
      "\tMean squared error: 5918.89\n",
      "\tCoefficient of determination: 0.00\n",
      "\n",
      "bmi:\n",
      "\tCoefficients: [949.43526038]\n",
      "\tIntercept: 152.1334841628967\n",
      "\tMean squared error: 3890.46\n",
      "\tCoefficient of determination: 0.34\n",
      "\n",
      "bp:\n",
      "\tCoefficients: [714.7416437]\n",
      "\tIntercept: 152.13348416289585\n",
      "\tMean squared error: 4774.10\n",
      "\tCoefficient of determination: 0.19\n",
      "\n",
      "s1:\n",
      "\tCoefficients: [343.25445189]\n",
      "\tIntercept: 152.13348416289597\n",
      "\tMean squared error: 5663.32\n",
      "\tCoefficient of determination: 0.04\n",
      "\n",
      "s2:\n",
      "\tCoefficients: [281.78459335]\n",
      "\tIntercept: 152.1334841628959\n",
      "\tMean squared error: 5750.24\n",
      "\tCoefficient of determination: 0.03\n",
      "\n",
      "s3:\n",
      "\tCoefficients: [-639.14527932]\n",
      "\tIntercept: 152.13348416289566\n",
      "\tMean squared error: 5005.66\n",
      "\tCoefficient of determination: 0.16\n",
      "\n",
      "s4:\n",
      "\tCoefficients: [696.88303009]\n",
      "\tIntercept: 152.13348416289568\n",
      "\tMean squared error: 4831.14\n",
      "\tCoefficient of determination: 0.19\n",
      "\n",
      "s5:\n",
      "\tCoefficients: [916.13872282]\n",
      "\tIntercept: 152.13348416289628\n",
      "\tMean squared error: 4030.99\n",
      "\tCoefficient of determination: 0.32\n",
      "\n",
      "s6:\n",
      "\tCoefficients: [619.22282068]\n",
      "\tIntercept: 152.13348416289614\n",
      "\tMean squared error: 5062.38\n",
      "\tCoefficient of determination: 0.15\n",
      "\n"
     ]
    }
   ],
   "source": [
    "for i in range(X.shape[1]):\n",
    "    X_i = X[:, np.newaxis, i]  # Protip! Trata de entender este paso por tu cuenta, es muy clever\n",
    "    regr_i = linear_model.LinearRegression()\n",
    "    regr_i.fit(X_i, y)\n",
    "    y_pred_i = regr_i.predict(X_i)\n",
    "    print(f\"{diabetes_df.columns[i]}:\")\n",
    "    print(f\"\\tCoefficients: {regr_i.coef_}\")\n",
    "    print(f\"\\tIntercept: {regr_i.intercept_}\")\n",
    "    print(f\"\\tMean squared error: {mean_squared_error(y, y_pred_i):.2f}\")\n",
    "    print(f\"\\tCoefficient of determination: {r2_score(y, y_pred_i):.2f}\\n\")"
   ]
  },
  {
   "cell_type": "markdown",
   "metadata": {
    "Collapsed": "false"
   },
   "source": [
    "**Si tuvieras que escoger una sola _feauture_, ¿Cuál sería? ¿Por qué?**"
   ]
  },
  {
   "cell_type": "markdown",
   "metadata": {
    "Collapsed": "false"
   },
   "source": [
    "Escogeria bmi pues es el que tiene MSE más bajo y coeficiente r2 más alto."
   ]
  },
  {
   "cell_type": "markdown",
   "metadata": {
    "Collapsed": "false"
   },
   "source": [
    "Con la feature escogida haz el siguiente gráfico:\n",
    "\n",
    "- Scatter Plot\n",
    "- Eje X: Valores de la feature escogida.\n",
    "- Eje Y: Valores de la columna a predecir (target).\n",
    "- En color rojo dibuja la recta correspondiente a la regresión lineal (utilizando `intercept_`y `coefs_`).\n",
    "- Coloca un título adecuado, nombre de los ejes, etc.\n",
    "\n",
    "Puedes utilizar `matplotlib` o `altair`, el que prefiera."
   ]
  },
  {
   "cell_type": "code",
   "execution_count": 249,
   "metadata": {},
   "outputs": [],
   "source": [
    "X_bmi = diabetes_df['bmi'].values\n",
    "regr_bmi = linear_model.LinearRegression()\n",
    "regr_bmi.fit(X_bmi[np.newaxis].T, y);"
   ]
  },
  {
   "cell_type": "code",
   "execution_count": 263,
   "metadata": {},
   "outputs": [
    {
     "data": {
      "text/html": [
       "<div>\n",
       "<style scoped>\n",
       "    .dataframe tbody tr th:only-of-type {\n",
       "        vertical-align: middle;\n",
       "    }\n",
       "\n",
       "    .dataframe tbody tr th {\n",
       "        vertical-align: top;\n",
       "    }\n",
       "\n",
       "    .dataframe thead th {\n",
       "        text-align: right;\n",
       "    }\n",
       "</style>\n",
       "<table border=\"1\" class=\"dataframe\">\n",
       "  <thead>\n",
       "    <tr style=\"text-align: right;\">\n",
       "      <th></th>\n",
       "      <th>bmi</th>\n",
       "      <th>prog</th>\n",
       "      <th>prog_pred</th>\n",
       "    </tr>\n",
       "  </thead>\n",
       "  <tbody>\n",
       "    <tr>\n",
       "      <td>0</td>\n",
       "      <td>0.061696</td>\n",
       "      <td>151.0</td>\n",
       "      <td>210.710038</td>\n",
       "    </tr>\n",
       "    <tr>\n",
       "      <td>1</td>\n",
       "      <td>-0.051474</td>\n",
       "      <td>75.0</td>\n",
       "      <td>103.262195</td>\n",
       "    </tr>\n",
       "    <tr>\n",
       "      <td>2</td>\n",
       "      <td>0.044451</td>\n",
       "      <td>141.0</td>\n",
       "      <td>194.337033</td>\n",
       "    </tr>\n",
       "    <tr>\n",
       "      <td>3</td>\n",
       "      <td>-0.011595</td>\n",
       "      <td>206.0</td>\n",
       "      <td>141.124769</td>\n",
       "    </tr>\n",
       "    <tr>\n",
       "      <td>4</td>\n",
       "      <td>-0.036385</td>\n",
       "      <td>135.0</td>\n",
       "      <td>117.588574</td>\n",
       "    </tr>\n",
       "    <tr>\n",
       "      <td>...</td>\n",
       "      <td>...</td>\n",
       "      <td>...</td>\n",
       "      <td>...</td>\n",
       "    </tr>\n",
       "    <tr>\n",
       "      <td>437</td>\n",
       "      <td>0.019662</td>\n",
       "      <td>178.0</td>\n",
       "      <td>170.800839</td>\n",
       "    </tr>\n",
       "    <tr>\n",
       "      <td>438</td>\n",
       "      <td>-0.015906</td>\n",
       "      <td>104.0</td>\n",
       "      <td>137.031517</td>\n",
       "    </tr>\n",
       "    <tr>\n",
       "      <td>439</td>\n",
       "      <td>-0.015906</td>\n",
       "      <td>132.0</td>\n",
       "      <td>137.031517</td>\n",
       "    </tr>\n",
       "    <tr>\n",
       "      <td>440</td>\n",
       "      <td>0.039062</td>\n",
       "      <td>220.0</td>\n",
       "      <td>189.220470</td>\n",
       "    </tr>\n",
       "    <tr>\n",
       "      <td>441</td>\n",
       "      <td>-0.073030</td>\n",
       "      <td>57.0</td>\n",
       "      <td>82.795940</td>\n",
       "    </tr>\n",
       "  </tbody>\n",
       "</table>\n",
       "<p>442 rows × 3 columns</p>\n",
       "</div>"
      ],
      "text/plain": [
       "          bmi   prog   prog_pred\n",
       "0    0.061696  151.0  210.710038\n",
       "1   -0.051474   75.0  103.262195\n",
       "2    0.044451  141.0  194.337033\n",
       "3   -0.011595  206.0  141.124769\n",
       "4   -0.036385  135.0  117.588574\n",
       "..        ...    ...         ...\n",
       "437  0.019662  178.0  170.800839\n",
       "438 -0.015906  104.0  137.031517\n",
       "439 -0.015906  132.0  137.031517\n",
       "440  0.039062  220.0  189.220470\n",
       "441 -0.073030   57.0   82.795940\n",
       "\n",
       "[442 rows x 3 columns]"
      ]
     },
     "execution_count": 263,
     "metadata": {},
     "output_type": "execute_result"
    }
   ],
   "source": [
    "reg_df = (\n",
    "    pd.DataFrame({'bmi': diabetes_df['bmi'], 'prog': diabetes_df['prog']})\n",
    "      .assign(prog_pred=lambda x: x['bmi'] * regr_bmi.coef_ + regr_bmi.intercept_)\n",
    ")\n",
    "reg_df"
   ]
  },
  {
   "cell_type": "code",
   "execution_count": 258,
   "metadata": {},
   "outputs": [],
   "source": [
    "line = (\n",
    "    alt.Chart(reg_df)\n",
    "       .mark_line(color = 'red')\n",
    "       .encode(\n",
    "         x = alt.X('bmi'),\n",
    "         y = alt.Y('prog_pred'),\n",
    "       )\n",
    ")"
   ]
  },
  {
   "cell_type": "code",
   "execution_count": 283,
   "metadata": {
    "Collapsed": "false"
   },
   "outputs": [],
   "source": [
    "points = (\n",
    "    alt.Chart(reg_df)\n",
    "       .mark_point(opacity = 0.8)\n",
    "       .encode(\n",
    "         x = alt.X('bmi'),\n",
    "         y = alt.Y('prog',title='prog'),\n",
    "       )\n",
    ")"
   ]
  },
  {
   "cell_type": "code",
   "execution_count": 284,
   "metadata": {},
   "outputs": [
    {
     "data": {
      "application/vnd.vegalite.v3+json": {
       "$schema": "https://vega.github.io/schema/vega-lite/v3.4.0.json",
       "config": {
        "background": "white",
        "mark": {
         "tooltip": null
        },
        "view": {
         "height": 300,
         "width": 400
        }
       },
       "datasets": {
        "data-3d5a3da68d6569de65bc5d4c2891fed4": [
         {
          "bmi": 0.0616962065186885,
          "prog": 151,
          "prog_pred": 210.71003806366963
         },
         {
          "bmi": -0.0514740612388061,
          "prog": 75,
          "prog_pred": 103.26219542761149
         },
         {
          "bmi": 0.0444512133365941,
          "prog": 141,
          "prog_pred": 194.3370334715084
         },
         {
          "bmi": -0.0115950145052127,
          "prog": 206,
          "prog_pred": 141.12476854698443
         },
         {
          "bmi": -0.0363846922044735,
          "prog": 135,
          "prog_pred": 117.58857444575257
         },
         {
          "bmi": -0.0406959404999971,
          "prog": 97,
          "prog_pred": 113.49532329771226
         },
         {
          "bmi": -0.0471628129432825,
          "prog": 138,
          "prog_pred": 107.3554465756518
         },
         {
          "bmi": -0.00189470584028465,
          "prog": 63,
          "prog_pred": 150.33458363007506
         },
         {
          "bmi": 0.0616962065186885,
          "prog": 110,
          "prog_pred": 210.71003806366963
         },
         {
          "bmi": 0.0390621529671896,
          "prog": 310,
          "prog_pred": 189.220469536458
         },
         {
          "bmi": -0.0838084234552331,
          "prog": 101,
          "prog_pred": 72.56281181730921
         },
         {
          "bmi": 0.0175059114895716,
          "prog": 69,
          "prog_pred": 168.7542137962565
         },
         {
          "bmi": -0.0288400076873072,
          "prog": 179,
          "prog_pred": 124.7517639548231
         },
         {
          "bmi": -0.00189470584028465,
          "prog": 185,
          "prog_pred": 150.33458363007506
         },
         {
          "bmi": -0.0256065714656645,
          "prog": 118,
          "prog_pred": 127.82170231585333
         },
         {
          "bmi": -0.0180618869484982,
          "prog": 171,
          "prog_pred": 134.98489182492386
         },
         {
          "bmi": 0.0422955891888323,
          "prog": 166,
          "prog_pred": 192.29040789748825
         },
         {
          "bmi": 0.0121168511201671,
          "prog": 144,
          "prog_pred": 163.6376498612061
         },
         {
          "bmi": -0.0105172024313319,
          "prog": 97,
          "prog_pred": 142.1480813339944
         },
         {
          "bmi": -0.0180618869484982,
          "prog": 168,
          "prog_pred": 134.98489182492386
         },
         {
          "bmi": -0.0568631216082106,
          "prog": 68,
          "prog_pred": 98.14563149256111
         },
         {
          "bmi": -0.0223731352440218,
          "prog": 49,
          "prog_pred": 130.89164067688355
         },
         {
          "bmi": -0.00405032998804645,
          "prog": 68,
          "prog_pred": 148.28795805605492
         },
         {
          "bmi": 0.0606183944448076,
          "prog": 245,
          "prog_pred": 209.68672527665956
         },
         {
          "bmi": 0.0358287167455469,
          "prog": 184,
          "prog_pred": 186.15053117542777
         },
         {
          "bmi": -0.0126728265790937,
          "prog": 202,
          "prog_pred": 140.10145575997424
         },
         {
          "bmi": -0.0773415510119477,
          "prog": 137,
          "prog_pred": 78.70268853936966
         },
         {
          "bmi": 0.0595405823709267,
          "prog": 85,
          "prog_pred": 208.66341248964946
         },
         {
          "bmi": -0.0212953231701409,
          "prog": 131,
          "prog_pred": 131.91495346389365
         },
         {
          "bmi": -0.00620595413580824,
          "prog": 283,
          "prog_pred": 146.24133248203478
         },
         {
          "bmi": 0.0444512133365941,
          "prog": 129,
          "prog_pred": 194.3370334715084
         },
         {
          "bmi": -0.0654856181992578,
          "prog": 59,
          "prog_pred": 89.9591291964805
         },
         {
          "bmi": 0.125287118877662,
          "prog": 341,
          "prog_pred": 271.0854924972645
         },
         {
          "bmi": -0.0503962491649252,
          "prog": 87,
          "prog_pred": 104.28550821462157
         },
         {
          "bmi": -0.063329994051496,
          "prog": 65,
          "prog_pred": 92.00575477050066
         },
         {
          "bmi": -0.030995631835069,
          "prog": 102,
          "prog_pred": 122.70513838080295
         },
         {
          "bmi": 0.0228949718589761,
          "prog": 265,
          "prog_pred": 173.87077773130687
         },
         {
          "bmi": 0.0110390390462862,
          "prog": 276,
          "prog_pred": 162.61433707419602
         },
         {
          "bmi": 0.0713965151836166,
          "prog": 252,
          "prog_pred": 219.91985314676032
         },
         {
          "bmi": 0.0142724752679289,
          "prog": 90,
          "prog_pred": 165.68427543522625
         },
         {
          "bmi": -0.00836157828357004,
          "prog": 100,
          "prog_pred": 144.1947069080146
         },
         {
          "bmi": -0.0676412423470196,
          "prog": 55,
          "prog_pred": 87.91250362246035
         },
         {
          "bmi": -0.0105172024313319,
          "prog": 61,
          "prog_pred": 142.1480813339944
         },
         {
          "bmi": -0.0234509473179027,
          "prog": 92,
          "prog_pred": 129.86832788987348
         },
         {
          "bmi": 0.068163078961974,
          "prog": 259,
          "prog_pred": 216.84991478573016
         },
         {
          "bmi": -0.0353068801305926,
          "prog": 53,
          "prog_pred": 118.61188723276265
         },
         {
          "bmi": -0.0115950145052127,
          "prog": 190,
          "prog_pred": 141.12476854698443
         },
         {
          "bmi": -0.0730303027164241,
          "prog": 142,
          "prog_pred": 82.79593968740997
         },
         {
          "bmi": -0.041773752573878,
          "prog": 75,
          "prog_pred": 112.47201051070218
         },
         {
          "bmi": 0.0142724752679289,
          "prog": 142,
          "prog_pred": 165.68427543522625
         },
         {
          "bmi": -0.00728376620968916,
          "prog": 155,
          "prog_pred": 145.21801969502468
         },
         {
          "bmi": 0.0164280994156907,
          "prog": 225,
          "prog_pred": 167.7309010092464
         },
         {
          "bmi": -0.00943939035745095,
          "prog": 59,
          "prog_pred": 143.17139412100454
         },
         {
          "bmi": -0.0159062628007364,
          "prog": 104,
          "prog_pred": 137.031517398944
         },
         {
          "bmi": 0.0250505960067379,
          "prog": 182,
          "prog_pred": 175.917403305327
         },
         {
          "bmi": -0.0493184370910443,
          "prog": 128,
          "prog_pred": 105.30882100163166
         },
         {
          "bmi": 0.0412177771149514,
          "prog": 52,
          "prog_pred": 191.26709511047818
         },
         {
          "bmi": -0.063329994051496,
          "prog": 37,
          "prog_pred": 92.00575477050066
         },
         {
          "bmi": -0.064407806125377,
          "prog": 170,
          "prog_pred": 90.98244198349049
         },
         {
          "bmi": -0.0256065714656645,
          "prog": 170,
          "prog_pred": 127.82170231585333
         },
         {
          "bmi": -0.00405032998804645,
          "prog": 61,
          "prog_pred": 148.28795805605492
         },
         {
          "bmi": 0.00457216660300077,
          "prog": 144,
          "prog_pred": 156.47446035213554
         },
         {
          "bmi": -0.00728376620968916,
          "prog": 52,
          "prog_pred": 145.21801969502468
         },
         {
          "bmi": -0.0374625042783544,
          "prog": 128,
          "prog_pred": 116.56526165874249
         },
         {
          "bmi": -0.0256065714656645,
          "prog": 71,
          "prog_pred": 127.82170231585333
         },
         {
          "bmi": -0.0245287593917836,
          "prog": 163,
          "prog_pred": 128.8450151028634
         },
         {
          "bmi": -0.0180618869484982,
          "prog": 150,
          "prog_pred": 134.98489182492386
         },
         {
          "bmi": -0.0148284507268555,
          "prog": 97,
          "prog_pred": 138.0548301859541
         },
         {
          "bmi": -0.0299178197611881,
          "prog": 160,
          "prog_pred": 123.72845116781303
         },
         {
          "bmi": -0.0460850008694016,
          "prog": 178,
          "prog_pred": 108.37875936266188
         },
         {
          "bmi": -0.0697968664947814,
          "prog": 48,
          "prog_pred": 85.86587804844021
         },
         {
          "bmi": 0.0336730925977851,
          "prog": 270,
          "prog_pred": 184.10390560140763
         },
         {
          "bmi": -0.00405032998804645,
          "prog": 202,
          "prog_pred": 148.28795805605492
         },
         {
          "bmi": -0.02021751109626,
          "prog": 111,
          "prog_pred": 132.93826625090372
         },
         {
          "bmi": 0.00241654245523897,
          "prog": 85,
          "prog_pred": 154.4278347781154
         },
         {
          "bmi": -0.030995631835069,
          "prog": 42,
          "prog_pred": 122.70513838080295
         },
         {
          "bmi": 0.0282840322283806,
          "prog": 170,
          "prog_pred": 178.98734166635725
         },
         {
          "bmi": -0.0363846922044735,
          "prog": 200,
          "prog_pred": 117.58857444575257
         },
         {
          "bmi": -0.0579409336820915,
          "prog": 252,
          "prog_pred": 97.12231870555104
         },
         {
          "bmi": -0.0374625042783544,
          "prog": 113,
          "prog_pred": 116.56526165874249
         },
         {
          "bmi": 0.0121168511201671,
          "prog": 143,
          "prog_pred": 163.6376498612061
         },
         {
          "bmi": -0.0223731352440218,
          "prog": 51,
          "prog_pred": 130.89164067688355
         },
         {
          "bmi": -0.0353068801305926,
          "prog": 52,
          "prog_pred": 118.61188723276265
         },
         {
          "bmi": 0.00996122697240527,
          "prog": 210,
          "prog_pred": 161.59102428718592
         },
         {
          "bmi": -0.0396181284261162,
          "prog": 65,
          "prog_pred": 114.51863608472235
         },
         {
          "bmi": 0.0713965151836166,
          "prog": 141,
          "prog_pred": 219.91985314676032
         },
         {
          "bmi": -0.0751859268641859,
          "prog": 55,
          "prog_pred": 80.74931411338981
         },
         {
          "bmi": -0.00620595413580824,
          "prog": 134,
          "prog_pred": 146.24133248203478
         },
         {
          "bmi": -0.0406959404999971,
          "prog": 42,
          "prog_pred": 113.49532329771226
         },
         {
          "bmi": -0.0482406250171634,
          "prog": 111,
          "prog_pred": 106.33213378864173
         },
         {
          "bmi": -0.0256065714656645,
          "prog": 98,
          "prog_pred": 127.82170231585333
         },
         {
          "bmi": 0.0519958978537604,
          "prog": 164,
          "prog_pred": 201.50022298057894
         },
         {
          "bmi": 0.00457216660300077,
          "prog": 48,
          "prog_pred": 156.47446035213554
         },
         {
          "bmi": -0.064407806125377,
          "prog": 96,
          "prog_pred": 90.98244198349049
         },
         {
          "bmi": -0.0169840748746173,
          "prog": 90,
          "prog_pred": 136.00820461193393
         },
         {
          "bmi": -0.0579409336820915,
          "prog": 162,
          "prog_pred": 97.12231870555104
         },
         {
          "bmi": 0.00996122697240527,
          "prog": 150,
          "prog_pred": 161.59102428718592
         },
         {
          "bmi": 0.088641508365711,
          "prog": 279,
          "prog_pred": 236.29285773892153
         },
         {
          "bmi": -0.00512814206192736,
          "prog": 92,
          "prog_pred": 147.26464526904482
         },
         {
          "bmi": -0.064407806125377,
          "prog": 83,
          "prog_pred": 90.98244198349049
         },
         {
          "bmi": 0.0175059114895716,
          "prog": 128,
          "prog_pred": 168.7542137962565
         },
         {
          "bmi": -0.0450071887955207,
          "prog": 102,
          "prog_pred": 109.40207214967195
         },
         {
          "bmi": 0.0282840322283806,
          "prog": 302,
          "prog_pred": 178.98734166635725
         },
         {
          "bmi": 0.0412177771149514,
          "prog": 198,
          "prog_pred": 191.26709511047818
         },
         {
          "bmi": 0.0649296427403312,
          "prog": 95,
          "prog_pred": 213.77997642469984
         },
         {
          "bmi": -0.0320734439089499,
          "prog": 53,
          "prog_pred": 121.68182559379287
         },
         {
          "bmi": -0.0762637389380668,
          "prog": 134,
          "prog_pred": 79.72600132637973
         },
         {
          "bmi": 0.0498402737059986,
          "prog": 144,
          "prog_pred": 199.45359740655877
         },
         {
          "bmi": 0.045529025410475,
          "prog": 232,
          "prog_pred": 195.36034625851846
         },
         {
          "bmi": -0.00943939035745095,
          "prog": 81,
          "prog_pred": 143.17139412100454
         },
         {
          "bmi": -0.0320734439089499,
          "prog": 104,
          "prog_pred": 121.68182559379287
         },
         {
          "bmi": 0.00457216660300077,
          "prog": 59,
          "prog_pred": 156.47446035213554
         },
         {
          "bmi": 0.0207393477112143,
          "prog": 246,
          "prog_pred": 171.8241521572867
         },
         {
          "bmi": 0.0142724752679289,
          "prog": 297,
          "prog_pred": 165.68427543522625
         },
         {
          "bmi": 0.110197749843329,
          "prog": 258,
          "prog_pred": 256.7591134791231
         },
         {
          "bmi": 0.00133873038135806,
          "prog": 229,
          "prog_pred": 153.4045219911053
         },
         {
          "bmi": 0.0584627702970458,
          "prog": 275,
          "prog_pred": 207.6400997026394
         },
         {
          "bmi": -0.0212953231701409,
          "prog": 281,
          "prog_pred": 131.91495346389365
         },
         {
          "bmi": -0.0105172024313319,
          "prog": 179,
          "prog_pred": 142.1480813339944
         },
         {
          "bmi": -0.0471628129432825,
          "prog": 200,
          "prog_pred": 107.3554465756518
         },
         {
          "bmi": 0.00457216660300077,
          "prog": 200,
          "prog_pred": 156.47446035213554
         },
         {
          "bmi": 0.0175059114895716,
          "prog": 173,
          "prog_pred": 168.7542137962565
         },
         {
          "bmi": 0.0810968238485447,
          "prog": 180,
          "prog_pred": 229.129668229851
         },
         {
          "bmi": 0.034750904671666,
          "prog": 84,
          "prog_pred": 185.1272183884177
         },
         {
          "bmi": 0.023972783932857,
          "prog": 121,
          "prog_pred": 174.89409051831694
         },
         {
          "bmi": -0.00836157828357004,
          "prog": 161,
          "prog_pred": 144.1947069080146
         },
         {
          "bmi": -0.0611743699037342,
          "prog": 99,
          "prog_pred": 94.05238034452081
         },
         {
          "bmi": -0.00189470584028465,
          "prog": 109,
          "prog_pred": 150.33458363007506
         },
         {
          "bmi": -0.0622521819776151,
          "prog": 115,
          "prog_pred": 93.02906755751073
         },
         {
          "bmi": 0.0164280994156907,
          "prog": 268,
          "prog_pred": 167.7309010092464
         },
         {
          "bmi": 0.0961861928828773,
          "prog": 274,
          "prog_pred": 243.45604724799207
         },
         {
          "bmi": -0.0697968664947814,
          "prog": 158,
          "prog_pred": 85.86587804844021
         },
         {
          "bmi": -0.0212953231701409,
          "prog": 107,
          "prog_pred": 131.91495346389365
         },
         {
          "bmi": -0.0536296853865679,
          "prog": 83,
          "prog_pred": 101.21556985359135
         },
         {
          "bmi": 0.0433734012627132,
          "prog": 103,
          "prog_pred": 193.31372068449832
         },
         {
          "bmi": 0.056307146149284,
          "prog": 272,
          "prog_pred": 205.59347412861922
         },
         {
          "bmi": -0.0816527993074713,
          "prog": 85,
          "prog_pred": 74.60943739132937
         },
         {
          "bmi": 0.0498402737059986,
          "prog": 280,
          "prog_pred": 199.45359740655877
         },
         {
          "bmi": 0.11127556191721,
          "prog": 336,
          "prog_pred": 257.78242626613326
         },
         {
          "bmi": 0.0616962065186885,
          "prog": 281,
          "prog_pred": 210.71003806366963
         },
         {
          "bmi": 0.0142724752679289,
          "prog": 118,
          "prog_pred": 165.68427543522625
         },
         {
          "bmi": 0.0476846495582368,
          "prog": 317,
          "prog_pred": 197.40697183253863
         },
         {
          "bmi": 0.0121168511201671,
          "prog": 235,
          "prog_pred": 163.6376498612061
         },
         {
          "bmi": 0.00564997867688165,
          "prog": 60,
          "prog_pred": 157.4977731391456
         },
         {
          "bmi": 0.0466068374843559,
          "prog": 174,
          "prog_pred": 196.38365904552853
         },
         {
          "bmi": 0.128520555099304,
          "prog": 259,
          "prog_pred": 274.15543085829404
         },
         {
          "bmi": 0.0595405823709267,
          "prog": 178,
          "prog_pred": 208.66341248964946
         },
         {
          "bmi": 0.0929527566612346,
          "prog": 128,
          "prog_pred": 240.38610888696184
         },
         {
          "bmi": 0.0153502873418098,
          "prog": 96,
          "prog_pred": 166.70758822223632
         },
         {
          "bmi": -0.00512814206192736,
          "prog": 126,
          "prog_pred": 147.26464526904482
         },
         {
          "bmi": 0.0703187031097357,
          "prog": 288,
          "prog_pred": 218.89654035975025
         },
         {
          "bmi": -0.00405032998804645,
          "prog": 88,
          "prog_pred": 148.28795805605492
         },
         {
          "bmi": -0.000816893766403737,
          "prog": 292,
          "prog_pred": 151.35789641708516
         },
         {
          "bmi": -0.0439293767216398,
          "prog": 71,
          "prog_pred": 110.42538493668204
         },
         {
          "bmi": 0.0207393477112143,
          "prog": 197,
          "prog_pred": 171.8241521572867
         },
         {
          "bmi": 0.0606183944448076,
          "prog": 186,
          "prog_pred": 209.68672527665956
         },
         {
          "bmi": -0.0105172024313319,
          "prog": 25,
          "prog_pred": 142.1480813339944
         },
         {
          "bmi": -0.0331512559828308,
          "prog": 84,
          "prog_pred": 120.6585128067828
         },
         {
          "bmi": -0.0654856181992578,
          "prog": 96,
          "prog_pred": 89.9591291964805
         },
         {
          "bmi": 0.0433734012627132,
          "prog": 195,
          "prog_pred": 193.31372068449832
         },
         {
          "bmi": -0.0622521819776151,
          "prog": 53,
          "prog_pred": 93.02906755751073
         },
         {
          "bmi": 0.0638518306664503,
          "prog": 217,
          "prog_pred": 212.75666363768977
         },
         {
          "bmi": 0.0304396563761424,
          "prog": 172,
          "prog_pred": 181.0339672403774
         },
         {
          "bmi": 0.0724743272574975,
          "prog": 131,
          "prog_pred": 220.9431659337704
         },
         {
          "bmi": -0.019139699022379,
          "prog": 214,
          "prog_pred": 133.96157903791388
         },
         {
          "bmi": -0.0665634302731387,
          "prog": 59,
          "prog_pred": 88.93581640947042
         },
         {
          "bmi": -0.0600965578298533,
          "prog": 70,
          "prog_pred": 95.07569313153088
         },
         {
          "bmi": 0.0692408910358548,
          "prog": 220,
          "prog_pred": 217.87322757274018
         },
         {
          "bmi": 0.0595405823709267,
          "prog": 268,
          "prog_pred": 208.66341248964946
         },
         {
          "bmi": -0.0266843835395454,
          "prog": 152,
          "prog_pred": 126.79838952884326
         },
         {
          "bmi": -0.02021751109626,
          "prog": 47,
          "prog_pred": 132.93826625090372
         },
         {
          "bmi": -0.0460850008694016,
          "prog": 74,
          "prog_pred": 108.37875936266188
         },
         {
          "bmi": 0.0713965151836166,
          "prog": 295,
          "prog_pred": 219.91985314676032
         },
         {
          "bmi": -0.0794971751597095,
          "prog": 101,
          "prog_pred": 76.6560629653495
         },
         {
          "bmi": 0.00996122697240527,
          "prog": 151,
          "prog_pred": 161.59102428718592
         },
         {
          "bmi": -0.0385403163522353,
          "prog": 127,
          "prog_pred": 115.54194887173242
         },
         {
          "bmi": 0.0196615356373334,
          "prog": 237,
          "prog_pred": 170.80083937027663
         },
         {
          "bmi": 0.0272062201544997,
          "prog": 225,
          "prog_pred": 177.96402887934718
         },
         {
          "bmi": -0.00836157828357004,
          "prog": 81,
          "prog_pred": 144.1947069080146
         },
         {
          "bmi": -0.0159062628007364,
          "prog": 151,
          "prog_pred": 137.031517398944
         },
         {
          "bmi": 0.00457216660300077,
          "prog": 107,
          "prog_pred": 156.47446035213554
         },
         {
          "bmi": -0.0428515646477589,
          "prog": 64,
          "prog_pred": 111.4486977236921
         },
         {
          "bmi": 0.00564997867688165,
          "prog": 138,
          "prog_pred": 157.4977731391456
         },
         {
          "bmi": -0.0353068801305926,
          "prog": 185,
          "prog_pred": 118.61188723276265
         },
         {
          "bmi": 0.023972783932857,
          "prog": 265,
          "prog_pred": 174.89409051831694
         },
         {
          "bmi": -0.0180618869484982,
          "prog": 101,
          "prog_pred": 134.98489182492386
         },
         {
          "bmi": 0.0422955891888323,
          "prog": 137,
          "prog_pred": 192.29040789748825
         },
         {
          "bmi": -0.0547074974604488,
          "prog": 143,
          "prog_pred": 100.19225706658128
         },
         {
          "bmi": -0.00297251791416553,
          "prog": 141,
          "prog_pred": 149.31127084306502
         },
         {
          "bmi": -0.0665634302731387,
          "prog": 79,
          "prog_pred": 88.93581640947042
         },
         {
          "bmi": -0.0126728265790937,
          "prog": 292,
          "prog_pred": 140.10145575997424
         },
         {
          "bmi": -0.041773752573878,
          "prog": 178,
          "prog_pred": 112.47201051070218
         },
         {
          "bmi": -0.030995631835069,
          "prog": 91,
          "prog_pred": 122.70513838080295
         },
         {
          "bmi": -0.00512814206192736,
          "prog": 116,
          "prog_pred": 147.26464526904482
         },
         {
          "bmi": -0.0590187457559724,
          "prog": 86,
          "prog_pred": 96.09900591854097
         },
         {
          "bmi": 0.0250505960067379,
          "prog": 122,
          "prog_pred": 175.917403305327
         },
         {
          "bmi": -0.0460850008694016,
          "prog": 72,
          "prog_pred": 108.37875936266188
         },
         {
          "bmi": 0.00349435452911985,
          "prog": 129,
          "prog_pred": 155.45114756512544
         },
         {
          "bmi": 0.0541515220015222,
          "prog": 142,
          "prog_pred": 203.54684855459908
         },
         {
          "bmi": -0.0450071887955207,
          "prog": 90,
          "prog_pred": 109.40207214967195
         },
         {
          "bmi": -0.0579409336820915,
          "prog": 158,
          "prog_pred": 97.12231870555104
         },
         {
          "bmi": -0.0557853095343297,
          "prog": 39,
          "prog_pred": 99.16894427957119
         },
         {
          "bmi": 0.00133873038135806,
          "prog": 196,
          "prog_pred": 153.4045219911053
         },
         {
          "bmi": 0.0304396563761424,
          "prog": 222,
          "prog_pred": 181.0339672403774
         },
         {
          "bmi": 0.00672779075076256,
          "prog": 277,
          "prog_pred": 158.52108592615568
         },
         {
          "bmi": 0.0466068374843559,
          "prog": 99,
          "prog_pred": 196.38365904552853
         },
         {
          "bmi": 0.0261284080806188,
          "prog": 196,
          "prog_pred": 176.94071609233708
         },
         {
          "bmi": 0.045529025410475,
          "prog": 202,
          "prog_pred": 195.36034625851846
         },
         {
          "bmi": 0.0401399650410705,
          "prog": 155,
          "prog_pred": 190.24378232346808
         },
         {
          "bmi": -0.0180618869484982,
          "prog": 77,
          "prog_pred": 134.98489182492386
         },
         {
          "bmi": 0.0142724752679289,
          "prog": 191,
          "prog_pred": 165.68427543522625
         },
         {
          "bmi": 0.0369065288194278,
          "prog": 70,
          "prog_pred": 187.17384396243784
         },
         {
          "bmi": 0.00349435452911985,
          "prog": 73,
          "prog_pred": 155.45114756512544
         },
         {
          "bmi": -0.0708746785686623,
          "prog": 49,
          "prog_pred": 84.84256526143012
         },
         {
          "bmi": -0.0331512559828308,
          "prog": 65,
          "prog_pred": 120.6585128067828
         },
         {
          "bmi": 0.0940305687351156,
          "prog": 263,
          "prog_pred": 241.40942167397202
         },
         {
          "bmi": 0.0358287167455469,
          "prog": 248,
          "prog_pred": 186.15053117542777
         },
         {
          "bmi": 0.0315174684500233,
          "prog": 296,
          "prog_pred": 182.0572800273875
         },
         {
          "bmi": -0.0654856181992578,
          "prog": 214,
          "prog_pred": 89.9591291964805
         },
         {
          "bmi": -0.041773752573878,
          "prog": 185,
          "prog_pred": 112.47201051070218
         },
         {
          "bmi": -0.0396181284261162,
          "prog": 78,
          "prog_pred": 114.51863608472235
         },
         {
          "bmi": -0.0385403163522353,
          "prog": 93,
          "prog_pred": 115.54194887173242
         },
         {
          "bmi": -0.0256065714656645,
          "prog": 252,
          "prog_pred": 127.82170231585333
         },
         {
          "bmi": -0.0234509473179027,
          "prog": 150,
          "prog_pred": 129.86832788987348
         },
         {
          "bmi": -0.0665634302731387,
          "prog": 77,
          "prog_pred": 88.93581640947042
         },
         {
          "bmi": 0.0325952805239042,
          "prog": 208,
          "prog_pred": 183.08059281439756
         },
         {
          "bmi": -0.0460850008694016,
          "prog": 77,
          "prog_pred": 108.37875936266188
         },
         {
          "bmi": -0.0299178197611881,
          "prog": 108,
          "prog_pred": 123.72845116781303
         },
         {
          "bmi": -0.0126728265790937,
          "prog": 160,
          "prog_pred": 140.10145575997424
         },
         {
          "bmi": -0.0159062628007364,
          "prog": 53,
          "prog_pred": 137.031517398944
         },
         {
          "bmi": 0.0713965151836166,
          "prog": 220,
          "prog_pred": 219.91985314676032
         },
         {
          "bmi": -0.030995631835069,
          "prog": 154,
          "prog_pred": 122.70513838080295
         },
         {
          "bmi": 0.000260918307477141,
          "prog": 259,
          "prog_pred": 152.3812092040952
         },
         {
          "bmi": 0.0369065288194278,
          "prog": 90,
          "prog_pred": 187.17384396243784
         },
         {
          "bmi": 0.0390621529671896,
          "prog": 246,
          "prog_pred": 189.220469536458
         },
         {
          "bmi": -0.0148284507268555,
          "prog": 124,
          "prog_pred": 138.0548301859541
         },
         {
          "bmi": 0.00672779075076256,
          "prog": 67,
          "prog_pred": 158.52108592615568
         },
         {
          "bmi": -0.0687190544209005,
          "prog": 72,
          "prog_pred": 86.88919083545028
         },
         {
          "bmi": -0.00943939035745095,
          "prog": 257,
          "prog_pred": 143.17139412100454
         },
         {
          "bmi": 0.0196615356373334,
          "prog": 262,
          "prog_pred": 170.80083937027663
         },
         {
          "bmi": 0.0746299514052593,
          "prog": 275,
          "prog_pred": 222.98979150779053
         },
         {
          "bmi": -0.00836157828357004,
          "prog": 177,
          "prog_pred": 144.1947069080146
         },
         {
          "bmi": -0.0234509473179027,
          "prog": 71,
          "prog_pred": 129.86832788987348
         },
         {
          "bmi": -0.0460850008694016,
          "prog": 47,
          "prog_pred": 108.37875936266188
         },
         {
          "bmi": 0.0541515220015222,
          "prog": 187,
          "prog_pred": 203.54684855459908
         },
         {
          "bmi": -0.0353068801305926,
          "prog": 125,
          "prog_pred": 118.61188723276265
         },
         {
          "bmi": -0.0320734439089499,
          "prog": 78,
          "prog_pred": 121.68182559379287
         },
         {
          "bmi": -0.0816527993074713,
          "prog": 51,
          "prog_pred": 74.60943739132937
         },
         {
          "bmi": 0.0476846495582368,
          "prog": 258,
          "prog_pred": 197.40697183253863
         },
         {
          "bmi": 0.0606183944448076,
          "prog": 215,
          "prog_pred": 209.68672527665956
         },
         {
          "bmi": 0.056307146149284,
          "prog": 303,
          "prog_pred": 205.59347412861922
         },
         {
          "bmi": 0.098341817030639,
          "prog": 243,
          "prog_pred": 245.50267282201213
         },
         {
          "bmi": 0.0595405823709267,
          "prog": 91,
          "prog_pred": 208.66341248964946
         },
         {
          "bmi": 0.0336730925977851,
          "prog": 150,
          "prog_pred": 184.10390560140763
         },
         {
          "bmi": 0.056307146149284,
          "prog": 310,
          "prog_pred": 205.59347412861922
         },
         {
          "bmi": -0.0654856181992578,
          "prog": 153,
          "prog_pred": 89.9591291964805
         },
         {
          "bmi": 0.160854917315731,
          "prog": 346,
          "prog_pred": 304.8548144685964
         },
         {
          "bmi": -0.0557853095343297,
          "prog": 63,
          "prog_pred": 99.16894427957119
         },
         {
          "bmi": -0.0245287593917836,
          "prog": 89,
          "prog_pred": 128.8450151028634
         },
         {
          "bmi": -0.0363846922044735,
          "prog": 50,
          "prog_pred": 117.58857444575257
         },
         {
          "bmi": -0.00836157828357004,
          "prog": 39,
          "prog_pred": 144.1947069080146
         },
         {
          "bmi": -0.041773752573878,
          "prog": 103,
          "prog_pred": 112.47201051070218
         },
         {
          "bmi": 0.127442743025423,
          "prog": 308,
          "prog_pred": 273.1321180712839
         },
         {
          "bmi": -0.0773415510119477,
          "prog": 116,
          "prog_pred": 78.70268853936966
         },
         {
          "bmi": 0.0282840322283806,
          "prog": 145,
          "prog_pred": 178.98734166635725
         },
         {
          "bmi": -0.0256065714656645,
          "prog": 74,
          "prog_pred": 127.82170231585333
         },
         {
          "bmi": -0.0622521819776151,
          "prog": 45,
          "prog_pred": 93.02906755751073
         },
         {
          "bmi": -0.000816893766403737,
          "prog": 115,
          "prog_pred": 151.35789641708516
         },
         {
          "bmi": 0.088641508365711,
          "prog": 264,
          "prog_pred": 236.29285773892153
         },
         {
          "bmi": -0.0320734439089499,
          "prog": 87,
          "prog_pred": 121.68182559379287
         },
         {
          "bmi": 0.0304396563761424,
          "prog": 202,
          "prog_pred": 181.0339672403774
         },
         {
          "bmi": 0.00888341489852436,
          "prog": 127,
          "prog_pred": 160.56771150017585
         },
         {
          "bmi": 0.00672779075076256,
          "prog": 182,
          "prog_pred": 158.52108592615568
         },
         {
          "bmi": -0.02021751109626,
          "prog": 241,
          "prog_pred": 132.93826625090372
         },
         {
          "bmi": -0.0245287593917836,
          "prog": 66,
          "prog_pred": 128.8450151028634
         },
         {
          "bmi": -0.0115950145052127,
          "prog": 94,
          "prog_pred": 141.12476854698443
         },
         {
          "bmi": 0.0261284080806188,
          "prog": 283,
          "prog_pred": 176.94071609233708
         },
         {
          "bmi": -0.0590187457559724,
          "prog": 64,
          "prog_pred": 96.09900591854097
         },
         {
          "bmi": -0.0363846922044735,
          "prog": 102,
          "prog_pred": 117.58857444575257
         },
         {
          "bmi": -0.0245287593917836,
          "prog": 200,
          "prog_pred": 128.8450151028634
         },
         {
          "bmi": 0.0185837235634525,
          "prog": 265,
          "prog_pred": 169.77752658326656
         },
         {
          "bmi": -0.0902752958985185,
          "prog": 94,
          "prog_pred": 66.42293509524875
         },
         {
          "bmi": -0.00512814206192736,
          "prog": 230,
          "prog_pred": 147.26464526904482
         },
         {
          "bmi": -0.052551873312687,
          "prog": 181,
          "prog_pred": 102.23888264060142
         },
         {
          "bmi": -0.0223731352440218,
          "prog": 156,
          "prog_pred": 130.89164067688355
         },
         {
          "bmi": -0.02021751109626,
          "prog": 233,
          "prog_pred": 132.93826625090372
         },
         {
          "bmi": -0.0547074974604488,
          "prog": 60,
          "prog_pred": 100.19225706658128
         },
         {
          "bmi": -0.00620595413580824,
          "prog": 219,
          "prog_pred": 146.24133248203478
         },
         {
          "bmi": -0.0169840748746173,
          "prog": 80,
          "prog_pred": 136.00820461193393
         },
         {
          "bmi": 0.0552293340754031,
          "prog": 68,
          "prog_pred": 204.57016134160915
         },
         {
          "bmi": 0.0767855755530211,
          "prog": 332,
          "prog_pred": 225.03641708181067
         },
         {
          "bmi": 0.0185837235634525,
          "prog": 248,
          "prog_pred": 169.77752658326656
         },
         {
          "bmi": -0.0223731352440218,
          "prog": 84,
          "prog_pred": 130.89164067688355
         },
         {
          "bmi": 0.0929527566612346,
          "prog": 200,
          "prog_pred": 240.38610888696184
         },
         {
          "bmi": -0.030995631835069,
          "prog": 55,
          "prog_pred": 122.70513838080295
         },
         {
          "bmi": 0.0390621529671896,
          "prog": 85,
          "prog_pred": 189.220469536458
         },
         {
          "bmi": -0.0611743699037342,
          "prog": 89,
          "prog_pred": 94.05238034452081
         },
         {
          "bmi": -0.00836157828357004,
          "prog": 31,
          "prog_pred": 144.1947069080146
         },
         {
          "bmi": -0.0374625042783544,
          "prog": 129,
          "prog_pred": 116.56526165874249
         },
         {
          "bmi": -0.0137506386529745,
          "prog": 83,
          "prog_pred": 139.07814297296426
         },
         {
          "bmi": 0.0735521393313785,
          "prog": 275,
          "prog_pred": 221.96647872078057
         },
         {
          "bmi": -0.0245287593917836,
          "prog": 65,
          "prog_pred": 128.8450151028634
         },
         {
          "bmi": 0.0336730925977851,
          "prog": 198,
          "prog_pred": 184.10390560140763
         },
         {
          "bmi": 0.034750904671666,
          "prog": 236,
          "prog_pred": 185.1272183884177
         },
         {
          "bmi": -0.0385403163522353,
          "prog": 253,
          "prog_pred": 115.54194887173242
         },
         {
          "bmi": -0.0396181284261162,
          "prog": 124,
          "prog_pred": 114.51863608472235
         },
         {
          "bmi": -0.00189470584028465,
          "prog": 44,
          "prog_pred": 150.33458363007506
         },
         {
          "bmi": -0.030995631835069,
          "prog": 172,
          "prog_pred": 122.70513838080295
         },
         {
          "bmi": -0.0460850008694016,
          "prog": 114,
          "prog_pred": 108.37875936266188
         },
         {
          "bmi": 0.00133873038135806,
          "prog": 142,
          "prog_pred": 153.4045219911053
         },
         {
          "bmi": 0.0649296427403312,
          "prog": 109,
          "prog_pred": 213.77997642469984
         },
         {
          "bmi": 0.0401399650410705,
          "prog": 180,
          "prog_pred": 190.24378232346808
         },
         {
          "bmi": -0.0234509473179027,
          "prog": 144,
          "prog_pred": 129.86832788987348
         },
         {
          "bmi": 0.0530737099276413,
          "prog": 163,
          "prog_pred": 202.523535767589
         },
         {
          "bmi": 0.0401399650410705,
          "prog": 147,
          "prog_pred": 190.24378232346808
         },
         {
          "bmi": -0.02021751109626,
          "prog": 97,
          "prog_pred": 132.93826625090372
         },
         {
          "bmi": 0.0142724752679289,
          "prog": 220,
          "prog_pred": 165.68427543522625
         },
         {
          "bmi": -0.0342290680567117,
          "prog": 190,
          "prog_pred": 119.63520001977272
         },
         {
          "bmi": 0.00672779075076256,
          "prog": 109,
          "prog_pred": 158.52108592615568
         },
         {
          "bmi": 0.00457216660300077,
          "prog": 191,
          "prog_pred": 156.47446035213554
         },
         {
          "bmi": 0.0304396563761424,
          "prog": 122,
          "prog_pred": 181.0339672403774
         },
         {
          "bmi": 0.0519958978537604,
          "prog": 230,
          "prog_pred": 201.50022298057894
         },
         {
          "bmi": 0.0616962065186885,
          "prog": 242,
          "prog_pred": 210.71003806366963
         },
         {
          "bmi": -0.00728376620968916,
          "prog": 248,
          "prog_pred": 145.21801969502468
         },
         {
          "bmi": 0.00564997867688165,
          "prog": 249,
          "prog_pred": 157.4977731391456
         },
         {
          "bmi": 0.0541515220015222,
          "prog": 192,
          "prog_pred": 203.54684855459908
         },
         {
          "bmi": -0.00836157828357004,
          "prog": 131,
          "prog_pred": 144.1947069080146
         },
         {
          "bmi": 0.114508998138853,
          "prog": 237,
          "prog_pred": 260.85236462716375
         },
         {
          "bmi": 0.067085266888093,
          "prog": 78,
          "prog_pred": 215.82660199872
         },
         {
          "bmi": -0.0557853095343297,
          "prog": 135,
          "prog_pred": 99.16894427957119
         },
         {
          "bmi": 0.0304396563761424,
          "prog": 244,
          "prog_pred": 181.0339672403774
         },
         {
          "bmi": -0.0256065714656645,
          "prog": 199,
          "prog_pred": 127.82170231585333
         },
         {
          "bmi": 0.104808689473925,
          "prog": 270,
          "prog_pred": 251.64254954407318
         },
         {
          "bmi": -0.00620595413580824,
          "prog": 164,
          "prog_pred": 146.24133248203478
         },
         {
          "bmi": -0.0471628129432825,
          "prog": 72,
          "prog_pred": 107.3554465756518
         },
         {
          "bmi": -0.0482406250171634,
          "prog": 96,
          "prog_pred": 106.33213378864173
         },
         {
          "bmi": 0.0854080721440683,
          "prog": 306,
          "prog_pred": 233.2229193778913
         },
         {
          "bmi": -0.0126728265790937,
          "prog": 91,
          "prog_pred": 140.10145575997424
         },
         {
          "bmi": -0.0331512559828308,
          "prog": 214,
          "prog_pred": 120.6585128067828
         },
         {
          "bmi": -0.00728376620968916,
          "prog": 95,
          "prog_pred": 145.21801969502468
         },
         {
          "bmi": -0.0137506386529745,
          "prog": 216,
          "prog_pred": 139.07814297296426
         },
         {
          "bmi": 0.0595405823709267,
          "prog": 263,
          "prog_pred": 208.66341248964946
         },
         {
          "bmi": 0.0218171597850952,
          "prog": 178,
          "prog_pred": 172.8474649442968
         },
         {
          "bmi": 0.0185837235634525,
          "prog": 113,
          "prog_pred": 169.77752658326656
         },
         {
          "bmi": -0.0115950145052127,
          "prog": 200,
          "prog_pred": 141.12476854698443
         },
         {
          "bmi": -0.00297251791416553,
          "prog": 139,
          "prog_pred": 149.31127084306502
         },
         {
          "bmi": 0.0175059114895716,
          "prog": 139,
          "prog_pred": 168.7542137962565
         },
         {
          "bmi": -0.0299178197611881,
          "prog": 88,
          "prog_pred": 123.72845116781303
         },
         {
          "bmi": -0.02021751109626,
          "prog": 148,
          "prog_pred": 132.93826625090372
         },
         {
          "bmi": -0.0579409336820915,
          "prog": 88,
          "prog_pred": 97.12231870555104
         },
         {
          "bmi": 0.0606183944448076,
          "prog": 243,
          "prog_pred": 209.68672527665956
         },
         {
          "bmi": -0.0406959404999971,
          "prog": 71,
          "prog_pred": 113.49532329771226
         },
         {
          "bmi": -0.0719524906425432,
          "prog": 77,
          "prog_pred": 83.81925247442005
         },
         {
          "bmi": -0.0557853095343297,
          "prog": 109,
          "prog_pred": 99.16894427957119
         },
         {
          "bmi": 0.045529025410475,
          "prog": 272,
          "prog_pred": 195.36034625851846
         },
         {
          "bmi": -0.00943939035745095,
          "prog": 60,
          "prog_pred": 143.17139412100454
         },
         {
          "bmi": -0.0331512559828308,
          "prog": 54,
          "prog_pred": 120.6585128067828
         },
         {
          "bmi": 0.0498402737059986,
          "prog": 221,
          "prog_pred": 199.45359740655877
         },
         {
          "bmi": -0.084886235529114,
          "prog": 90,
          "prog_pred": 71.53949903029913
         },
         {
          "bmi": 0.00564997867688165,
          "prog": 311,
          "prog_pred": 157.4977731391456
         },
         {
          "bmi": 0.0207393477112143,
          "prog": 281,
          "prog_pred": 171.8241521572867
         },
         {
          "bmi": -0.00728376620968916,
          "prog": 182,
          "prog_pred": 145.21801969502468
         },
         {
          "bmi": 0.104808689473925,
          "prog": 321,
          "prog_pred": 251.64254954407318
         },
         {
          "bmi": -0.0245287593917836,
          "prog": 58,
          "prog_pred": 128.8450151028634
         },
         {
          "bmi": -0.00620595413580824,
          "prog": 262,
          "prog_pred": 146.24133248203478
         },
         {
          "bmi": -0.0385403163522353,
          "prog": 206,
          "prog_pred": 115.54194887173242
         },
         {
          "bmi": 0.137143051690352,
          "prog": 233,
          "prog_pred": 282.34193315437545
         },
         {
          "bmi": 0.17055522598066,
          "prog": 242,
          "prog_pred": 314.0646295516879
         },
         {
          "bmi": 0.00241654245523897,
          "prog": 123,
          "prog_pred": 154.4278347781154
         },
         {
          "bmi": 0.0379843408933087,
          "prog": 167,
          "prog_pred": 188.19715674944794
         },
         {
          "bmi": -0.0579409336820915,
          "prog": 63,
          "prog_pred": 97.12231870555104
         },
         {
          "bmi": -0.00943939035745095,
          "prog": 197,
          "prog_pred": 143.17139412100454
         },
         {
          "bmi": -0.0234509473179027,
          "prog": 71,
          "prog_pred": 129.86832788987348
         },
         {
          "bmi": -0.0105172024313319,
          "prog": 168,
          "prog_pred": 142.1480813339944
         },
         {
          "bmi": -0.0342290680567117,
          "prog": 140,
          "prog_pred": 119.63520001977272
         },
         {
          "bmi": -0.00297251791416553,
          "prog": 217,
          "prog_pred": 149.31127084306502
         },
         {
          "bmi": 0.068163078961974,
          "prog": 121,
          "prog_pred": 216.84991478573016
         },
         {
          "bmi": 0.00996122697240527,
          "prog": 235,
          "prog_pred": 161.59102428718592
         },
         {
          "bmi": 0.00241654245523897,
          "prog": 245,
          "prog_pred": 154.4278347781154
         },
         {
          "bmi": -0.0385403163522353,
          "prog": 40,
          "prog_pred": 115.54194887173242
         },
         {
          "bmi": 0.0261284080806188,
          "prog": 52,
          "prog_pred": 176.94071609233708
         },
         {
          "bmi": -0.0891974838246376,
          "prog": 104,
          "prog_pred": 67.44624788225882
         },
         {
          "bmi": 0.0606183944448076,
          "prog": 132,
          "prog_pred": 209.68672527665956
         },
         {
          "bmi": -0.0288400076873072,
          "prog": 88,
          "prog_pred": 124.7517639548231
         },
         {
          "bmi": -0.0299178197611881,
          "prog": 69,
          "prog_pred": 123.72845116781303
         },
         {
          "bmi": -0.019139699022379,
          "prog": 219,
          "prog_pred": 133.96157903791388
         },
         {
          "bmi": -0.0406959404999971,
          "prog": 72,
          "prog_pred": 113.49532329771226
         },
         {
          "bmi": 0.0153502873418098,
          "prog": 201,
          "prog_pred": 166.70758822223632
         },
         {
          "bmi": -0.0245287593917836,
          "prog": 110,
          "prog_pred": 128.8450151028634
         },
         {
          "bmi": 0.00133873038135806,
          "prog": 51,
          "prog_pred": 153.4045219911053
         },
         {
          "bmi": 0.0692408910358548,
          "prog": 277,
          "prog_pred": 217.87322757274018
         },
         {
          "bmi": -0.0697968664947814,
          "prog": 63,
          "prog_pred": 85.86587804844021
         },
         {
          "bmi": -0.0299178197611881,
          "prog": 118,
          "prog_pred": 123.72845116781303
         },
         {
          "bmi": -0.0460850008694016,
          "prog": 69,
          "prog_pred": 108.37875936266188
         },
         {
          "bmi": 0.0185837235634525,
          "prog": 273,
          "prog_pred": 169.77752658326656
         },
         {
          "bmi": 0.00133873038135806,
          "prog": 258,
          "prog_pred": 153.4045219911053
         },
         {
          "bmi": -0.030995631835069,
          "prog": 43,
          "prog_pred": 122.70513838080295
         },
         {
          "bmi": -0.00405032998804645,
          "prog": 198,
          "prog_pred": 148.28795805605492
         },
         {
          "bmi": 0.0153502873418098,
          "prog": 242,
          "prog_pred": 166.70758822223632
         },
         {
          "bmi": 0.0228949718589761,
          "prog": 232,
          "prog_pred": 173.87077773130687
         },
         {
          "bmi": 0.045529025410475,
          "prog": 175,
          "prog_pred": 195.36034625851846
         },
         {
          "bmi": -0.0450071887955207,
          "prog": 93,
          "prog_pred": 109.40207214967195
         },
         {
          "bmi": -0.0331512559828308,
          "prog": 168,
          "prog_pred": 120.6585128067828
         },
         {
          "bmi": 0.0972640049567582,
          "prog": 275,
          "prog_pred": 244.47936003500214
         },
         {
          "bmi": 0.0541515220015222,
          "prog": 293,
          "prog_pred": 203.54684855459908
         },
         {
          "bmi": 0.1231314947299,
          "prog": 281,
          "prog_pred": 269.03886692324414
         },
         {
          "bmi": -0.0805749872335904,
          "prog": 72,
          "prog_pred": 75.63275017833944
         },
         {
          "bmi": 0.0929527566612346,
          "prog": 140,
          "prog_pred": 240.38610888696184
         },
         {
          "bmi": -0.0503962491649252,
          "prog": 189,
          "prog_pred": 104.28550821462157
         },
         {
          "bmi": -0.0115950145052127,
          "prog": 181,
          "prog_pred": 141.12476854698443
         },
         {
          "bmi": -0.0277621956134263,
          "prog": 209,
          "prog_pred": 125.77507674183317
         },
         {
          "bmi": 0.0584627702970458,
          "prog": 136,
          "prog_pred": 207.6400997026394
         },
         {
          "bmi": 0.0854080721440683,
          "prog": 261,
          "prog_pred": 233.2229193778913
         },
         {
          "bmi": -0.000816893766403737,
          "prog": 113,
          "prog_pred": 151.35789641708516
         },
         {
          "bmi": 0.00672779075076256,
          "prog": 131,
          "prog_pred": 158.52108592615568
         },
         {
          "bmi": 0.00888341489852436,
          "prog": 174,
          "prog_pred": 160.56771150017585
         },
         {
          "bmi": 0.0800190117746638,
          "prog": 257,
          "prog_pred": 228.10635544284094
         },
         {
          "bmi": 0.0713965151836166,
          "prog": 55,
          "prog_pred": 219.91985314676032
         },
         {
          "bmi": -0.0245287593917836,
          "prog": 84,
          "prog_pred": 128.8450151028634
         },
         {
          "bmi": -0.0547074974604488,
          "prog": 42,
          "prog_pred": 100.19225706658128
         },
         {
          "bmi": -0.0363846922044735,
          "prog": 146,
          "prog_pred": 117.58857444575257
         },
         {
          "bmi": 0.0164280994156907,
          "prog": 212,
          "prog_pred": 167.7309010092464
         },
         {
          "bmi": 0.077863387626902,
          "prog": 233,
          "prog_pred": 226.05972986882077
         },
         {
          "bmi": -0.0396181284261162,
          "prog": 91,
          "prog_pred": 114.51863608472235
         },
         {
          "bmi": 0.0110390390462862,
          "prog": 111,
          "prog_pred": 162.61433707419602
         },
         {
          "bmi": -0.0406959404999971,
          "prog": 152,
          "prog_pred": 113.49532329771226
         },
         {
          "bmi": -0.0342290680567117,
          "prog": 120,
          "prog_pred": 119.63520001977272
         },
         {
          "bmi": 0.00564997867688165,
          "prog": 67,
          "prog_pred": 157.4977731391456
         },
         {
          "bmi": 0.088641508365711,
          "prog": 310,
          "prog_pred": 236.29285773892153
         },
         {
          "bmi": -0.0331512559828308,
          "prog": 94,
          "prog_pred": 120.6585128067828
         },
         {
          "bmi": -0.0568631216082106,
          "prog": 183,
          "prog_pred": 98.14563149256111
         },
         {
          "bmi": -0.030995631835069,
          "prog": 66,
          "prog_pred": 122.70513838080295
         },
         {
          "bmi": 0.0552293340754031,
          "prog": 173,
          "prog_pred": 204.57016134160915
         },
         {
          "bmi": -0.0600965578298533,
          "prog": 72,
          "prog_pred": 95.07569313153088
         },
         {
          "bmi": 0.00133873038135806,
          "prog": 49,
          "prog_pred": 153.4045219911053
         },
         {
          "bmi": -0.0234509473179027,
          "prog": 64,
          "prog_pred": 129.86832788987348
         },
         {
          "bmi": -0.074108114790305,
          "prog": 48,
          "prog_pred": 81.77262690039989
         },
         {
          "bmi": 0.0196615356373334,
          "prog": 178,
          "prog_pred": 170.80083937027663
         },
         {
          "bmi": -0.0159062628007364,
          "prog": 104,
          "prog_pred": 137.031517398944
         },
         {
          "bmi": -0.0159062628007364,
          "prog": 132,
          "prog_pred": 137.031517398944
         },
         {
          "bmi": 0.0390621529671896,
          "prog": 220,
          "prog_pred": 189.220469536458
         },
         {
          "bmi": -0.0730303027164241,
          "prog": 57,
          "prog_pred": 82.79593968740997
         }
        ]
       },
       "height": 400,
       "layer": [
        {
         "data": {
          "name": "data-3d5a3da68d6569de65bc5d4c2891fed4"
         },
         "encoding": {
          "x": {
           "field": "bmi",
           "type": "quantitative"
          },
          "y": {
           "field": "prog",
           "title": "prog",
           "type": "quantitative"
          }
         },
         "mark": {
          "opacity": 0.8,
          "type": "point"
         }
        },
        {
         "data": {
          "name": "data-3d5a3da68d6569de65bc5d4c2891fed4"
         },
         "encoding": {
          "x": {
           "field": "bmi",
           "type": "quantitative"
          },
          "y": {
           "field": "prog_pred",
           "type": "quantitative"
          }
         },
         "mark": {
          "color": "red",
          "type": "line"
         }
        }
       ],
       "width": 600
      },
      "image/png": "[encoded data removed]",
      "text/plain": [
       "<VegaLite 3 object>\n",
       "\n",
       "If you see this message, it means the renderer has not been properly enabled\n",
       "for the frontend that you are using. For more information, see\n",
       "https://altair-viz.github.io/user_guide/troubleshooting.html\n"
      ]
     },
     "execution_count": 284,
     "metadata": {},
     "output_type": "execute_result"
    }
   ],
   "source": [
    "(points + line).properties(width=600, height=400)"
   ]
  }
 ],
 "metadata": {
  "celltoolbar": "Slideshow",
  "kernelspec": {
   "display_name": "Python 3",
   "language": "python",
   "name": "python3"
  },
  "language_info": {
   "codemirror_mode": {
    "name": "ipython",
    "version": 3
   },
   "file_extension": ".py",
   "mimetype": "text/x-python",
   "name": "python",
   "nbconvert_exporter": "python",
   "pygments_lexer": "ipython3",
   "version": "3.7.6"
  }
 },
 "nbformat": 4,
 "nbformat_minor": 4
}
