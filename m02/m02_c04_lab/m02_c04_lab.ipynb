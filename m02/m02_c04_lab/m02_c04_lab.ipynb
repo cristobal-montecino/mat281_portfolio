{
 "cells": [
  {
   "cell_type": "markdown",
   "metadata": {
    "slideshow": {
     "slide_type": "slide"
    }
   },
   "source": [
    "<img src=\"https://upload.wikimedia.org/wikipedia/commons/4/47/Logo_UTFSM.png\" width=\"200\" alt=\"utfsm-logo\" align=\"left\"/>\n",
    "\n",
    "# MAT281\n",
    "### Aplicaciones de la Matemática en la Ingeniería"
   ]
  },
  {
   "cell_type": "markdown",
   "metadata": {
    "slideshow": {
     "slide_type": "slide"
    }
   },
   "source": [
    "## Módulo 02\n",
    "## Laboratorio Clase 04: Agrupando datos"
   ]
  },
  {
   "cell_type": "markdown",
   "metadata": {},
   "source": [
    "### Instrucciones\n",
    "\n",
    "\n",
    "* Completa tus datos personales (nombre y rol USM) en siguiente celda.\n",
    "* La escala es de 0 a 4 considerando solo valores enteros.\n",
    "* Debes _pushear_ tus cambios a tu repositorio personal del curso.\n",
    "* Como respaldo, debes enviar un archivo .zip con el siguiente formato `mXX_cYY_lab_apellido_nombre.zip` a alonso.ogueda@gmail.com. \n",
    "* Se evaluará:\n",
    "    - Soluciones\n",
    "    - Código\n",
    "    - Que Binder esté bien configurado.\n",
    "    - Al presionar  `Kernel -> Restart Kernel and Run All Cells` deben ejecutarse todas las celdas sin error.\n",
    "* __La entrega es al final de esta clase.__"
   ]
  },
  {
   "cell_type": "markdown",
   "metadata": {},
   "source": [
    "__Nombre__: Cristóbal Montecino\n",
    "\n",
    "__Rol__: 201710019-2"
   ]
  },
  {
   "cell_type": "markdown",
   "metadata": {},
   "source": [
    "Se utilizará el mismo dataset de pokemon"
   ]
  },
  {
   "cell_type": "code",
   "execution_count": null,
   "metadata": {},
   "outputs": [],
   "source": [
    "import os\n",
    "import pandas as pd"
   ]
  },
  {
   "cell_type": "code",
   "execution_count": null,
   "metadata": {},
   "outputs": [],
   "source": [
    "pkm = (\n",
    "    pd.read_csv(os.path.join(\"data\", \"pokemon.csv\"), index_col=\"#\")\n",
    "    .rename(columns=lambda x: x.replace(\" \", \"\").replace(\".\", \"_\").lower())\n",
    ")\n",
    "pkm.head()"
   ]
  },
  {
   "cell_type": "markdown",
   "metadata": {},
   "source": [
    "## Ejercicio #1 (1 pto)\n",
    "\n",
    "Agrupar por `generation` y `legendary` y obtener por grupo:\n",
    "\n",
    "* Promedio de `hp`\n",
    "* Mínimo y máximo de `sp_atk` y `sp_def`"
   ]
  },
  {
   "cell_type": "code",
   "execution_count": null,
   "metadata": {},
   "outputs": [],
   "source": [
    "(\n",
    "    pkm.groupby(['generation', 'legendary'])\n",
    "    .agg({\n",
    "        'hp': 'mean',\n",
    "        'sp_atk': ['min', 'max'],\n",
    "        'sp_def': ['min', 'max'],\n",
    "    })\n",
    ")"
   ]
  },
  {
   "cell_type": "markdown",
   "metadata": {},
   "source": [
    "## Ejercicio #2 (1 pto)\n",
    "\n",
    "El profesor Oakgueda determinó que una buen indicador de pokemones es: \n",
    "\n",
    "$$ 0.2 \\, \\textrm{hp} + 0.4 \\,(\\textrm{attack} + \\textrm{sp_atk})^2 + 0.3 \\,( \\textrm{defense} + \\textrm{sp_deff})^{1.5} + 0.1 \\, \\textrm{speed}$$\n",
    "\n",
    "Según este indicador, ¿Qué grupo de pokemones (`type1`, `type2`) es en promedio mejor que el resto? "
   ]
  },
  {
   "cell_type": "code",
   "execution_count": null,
   "metadata": {},
   "outputs": [],
   "source": [
    "def oakgueda_indicator(df):\n",
    "    oakgueda_ind = 0.2 * df['hp'] + 0.4 * (df['attack'] + df['sp_atk'])**2 + 0.3 * (df['defense'] + df['sp_def'])**1.5 + 0.1 * df['speed']\n",
    "    return oakgueda_ind.mean()"
   ]
  },
  {
   "cell_type": "code",
   "execution_count": null,
   "metadata": {},
   "outputs": [],
   "source": [
    "pkm.groupby(['type1', 'type2']).apply(oakgueda_indicator).sort_values()"
   ]
  },
  {
   "cell_type": "markdown",
   "metadata": {},
   "source": [
    "__Respuesta__: Ground Fire"
   ]
  },
  {
   "cell_type": "markdown",
   "metadata": {},
   "source": [
    "## Ejercicio #3 (1 pto)\n",
    "\n",
    "Define una función que escale los datos tal que, si $s$ es una columna: \n",
    "\n",
    "$$s\\_scaled = \\frac{s - \\min(s)}{\\max(s) - \\min(s)}$$\n",
    "\n",
    "Y luego transforma cada columna agrupando por si el pokemon es legendario o no."
   ]
  },
  {
   "cell_type": "code",
   "execution_count": null,
   "metadata": {},
   "outputs": [],
   "source": [
    "def minmax_scale(s):\n",
    "    return (s - min(s)) / (max(s) - min(s))\n",
    "\n",
    "pkm.groupby('legendary').transform(minmax_scale)"
   ]
  },
  {
   "cell_type": "markdown",
   "metadata": {},
   "source": [
    "## Ejercicio #4 (1 pto)\n",
    "\n",
    "El profesor Oakgueda necesita saber cuántos pokemones hay luego de filtrar el dataset tal que el grupo de (`type1`, `type2`) tenga en promedio un indicador (el del ejercicio #2) mayor a 40000."
   ]
  },
  {
   "cell_type": "code",
   "execution_count": null,
   "metadata": {},
   "outputs": [],
   "source": [
    "pkm.groupby(['type1', 'type2']).filter(lambda df: oakgueda_indicator(df) > 40000)"
   ]
  },
  {
   "cell_type": "markdown",
   "metadata": {},
   "source": [
    "__Respuesta:__ Hay solo dos pokemones que cumplen esta condición."
   ]
  }
 ],
 "metadata": {
  "celltoolbar": "Slideshow",
  "kernelspec": {
   "display_name": "Python 3",
   "language": "python",
   "name": "python3"
  },
  "language_info": {
   "codemirror_mode": {
    "name": "ipython",
    "version": 3
   },
   "file_extension": ".py",
   "mimetype": "text/x-python",
   "name": "python",
   "nbconvert_exporter": "python",
   "pygments_lexer": "ipython3",
   "version": "3.7.3"
  }
 },
 "nbformat": 4,
 "nbformat_minor": 4
}
